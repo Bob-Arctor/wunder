{
 "cells": [
  {
   "cell_type": "code",
   "execution_count": 73,
   "metadata": {
    "collapsed": false
   },
   "outputs": [],
   "source": [
    "import numpy as np\n",
    "from operator import add\n",
    "import itertools\n",
    "\n",
    "np.random.seed(27)\n",
    "np.set_printoptions(linewidth=200)"
   ]
  },
  {
   "cell_type": "code",
   "execution_count": 74,
   "metadata": {
    "collapsed": false
   },
   "outputs": [],
   "source": [
    "hickers = 9\n",
    "\n",
    "costs = np.around(np.random.rand(hickers*2, hickers*2), decimals = 2)\n",
    "np.fill_diagonal(costs, 0)\n",
    "costs = np.maximum( costs, costs.transpose() )\n",
    "home_costs = np.around(np.random.rand(hickers,1), decimals = 2)\n",
    "work_costs = np.around(np.random.rand(1,hickers), decimals = 2)\n",
    "\n",
    "#last column - distance to drivers home\n",
    "#last row - distance to drivers office\n",
    "total_costs = np.zeros((hickers*2 + 1, hickers*2 + 1))\n",
    "total_costs[:-1,:-1] = costs\n",
    "total_col = np.zeros((hickers*2 + 1, 1))\n",
    "total_col[:hickers,:] = home_costs\n",
    "total_row = np.zeros((1, hickers*2 + 1))\n",
    "total_row[:,hickers:-1] = work_costs\n",
    "total_costs[:,-1] = total_col.reshape((hickers*2+1))\n",
    "total_costs[-1,:] = total_row\n",
    "\n",
    "car_capacity = 3\n"
   ]
  },
  {
   "cell_type": "code",
   "execution_count": 75,
   "metadata": {
    "collapsed": false
   },
   "outputs": [
    {
     "data": {
      "text/plain": [
       "array([[ 0.  ,  0.81,  0.74,  0.92,  0.67,  0.98,  0.89,  0.63,  0.74,  0.7 ,  0.89,  0.86,  0.75,  0.87,  0.55,  0.49,  0.46,  0.79,  0.01],\n",
       "       [ 0.81,  0.  ,  0.59,  0.49,  0.87,  0.95,  0.56,  0.7 ,  0.53,  0.6 ,  0.42,  0.51,  0.51,  0.86,  0.85,  0.93,  0.87,  0.65,  0.1 ],\n",
       "       [ 0.74,  0.59,  0.  ,  0.6 ,  0.97,  0.58,  0.56,  0.67,  0.84,  0.91,  0.7 ,  0.39,  0.71,  0.92,  0.29,  0.68,  0.88,  0.99,  0.19],\n",
       "       [ 0.92,  0.49,  0.6 ,  0.  ,  0.99,  0.98,  0.58,  0.65,  0.91,  0.95,  0.83,  0.97,  0.91,  0.51,  0.98,  0.42,  0.9 ,  0.57,  0.46],\n",
       "       [ 0.67,  0.87,  0.97,  0.99,  0.  ,  0.74,  0.94,  0.73,  0.59,  0.98,  0.2 ,  0.85,  0.91,  0.19,  0.17,  0.54,  0.65,  0.51,  0.71],\n",
       "       [ 0.98,  0.95,  0.58,  0.98,  0.74,  0.  ,  0.83,  0.83,  0.97,  0.73,  0.94,  0.42,  0.94,  0.87,  0.9 ,  0.76,  0.4 ,  0.15,  0.9 ],\n",
       "       [ 0.89,  0.56,  0.56,  0.58,  0.94,  0.83,  0.  ,  0.72,  1.  ,  0.31,  0.66,  0.98,  0.31,  0.5 ,  0.06,  0.85,  0.29,  0.03,  0.55],\n",
       "       [ 0.63,  0.7 ,  0.67,  0.65,  0.73,  0.83,  0.72,  0.  ,  0.1 ,  0.65,  0.45,  0.93,  0.84,  0.87,  0.85,  0.22,  0.93,  0.91,  0.91],\n",
       "       [ 0.74,  0.53,  0.84,  0.91,  0.59,  0.97,  1.  ,  0.1 ,  0.  ,  0.79,  0.94,  0.42,  0.89,  0.27,  0.7 ,  0.75,  0.72,  0.67,  0.63],\n",
       "       [ 0.7 ,  0.6 ,  0.91,  0.95,  0.98,  0.73,  0.31,  0.65,  0.79,  0.  ,  0.64,  0.37,  0.54,  0.75,  0.83,  0.53,  0.94,  0.6 ,  0.  ],\n",
       "       [ 0.89,  0.42,  0.7 ,  0.83,  0.2 ,  0.94,  0.66,  0.45,  0.94,  0.64,  0.  ,  0.79,  0.99,  0.75,  0.93,  0.86,  0.47,  0.71,  0.  ],\n",
       "       [ 0.86,  0.51,  0.39,  0.97,  0.85,  0.42,  0.98,  0.93,  0.42,  0.37,  0.79,  0.  ,  0.9 ,  0.31,  0.14,  0.53,  0.18,  0.98,  0.  ],\n",
       "       [ 0.75,  0.51,  0.71,  0.91,  0.91,  0.94,  0.31,  0.84,  0.89,  0.54,  0.99,  0.9 ,  0.  ,  0.72,  0.81,  0.97,  0.87,  0.79,  0.  ],\n",
       "       [ 0.87,  0.86,  0.92,  0.51,  0.19,  0.87,  0.5 ,  0.87,  0.27,  0.75,  0.75,  0.31,  0.72,  0.  ,  1.  ,  0.34,  0.83,  0.23,  0.  ],\n",
       "       [ 0.55,  0.85,  0.29,  0.98,  0.17,  0.9 ,  0.06,  0.85,  0.7 ,  0.83,  0.93,  0.14,  0.81,  1.  ,  0.  ,  0.67,  0.93,  0.24,  0.  ],\n",
       "       [ 0.49,  0.93,  0.68,  0.42,  0.54,  0.76,  0.85,  0.22,  0.75,  0.53,  0.86,  0.53,  0.97,  0.34,  0.67,  0.  ,  0.36,  0.96,  0.  ],\n",
       "       [ 0.46,  0.87,  0.88,  0.9 ,  0.65,  0.4 ,  0.29,  0.93,  0.72,  0.94,  0.47,  0.18,  0.87,  0.83,  0.93,  0.36,  0.  ,  0.81,  0.  ],\n",
       "       [ 0.79,  0.65,  0.99,  0.57,  0.51,  0.15,  0.03,  0.91,  0.67,  0.6 ,  0.71,  0.98,  0.79,  0.23,  0.24,  0.96,  0.81,  0.  ,  0.  ],\n",
       "       [ 0.  ,  0.  ,  0.  ,  0.  ,  0.  ,  0.  ,  0.  ,  0.  ,  0.  ,  0.85,  0.83,  0.96,  0.9 ,  0.88,  0.65,  0.88,  0.61,  0.07,  0.  ]])"
      ]
     },
     "execution_count": 75,
     "metadata": {},
     "output_type": "execute_result"
    }
   ],
   "source": [
    "total_costs"
   ]
  },
  {
   "cell_type": "code",
   "execution_count": 76,
   "metadata": {
    "collapsed": false
   },
   "outputs": [],
   "source": [
    "def print_location(loc):\n",
    "    if loc < hickers:\n",
    "        print('home of the %d passenger'%(int(loc + 1)))\n",
    "    elif loc<hickers*2:\n",
    "        print('office of %d passenger'%(int(loc-hickers + 1)))\n",
    "    else:\n",
    "        print('end/start node')"
   ]
  },
  {
   "cell_type": "code",
   "execution_count": 77,
   "metadata": {
    "collapsed": false
   },
   "outputs": [],
   "source": [
    "# moving backwards\n",
    "def find_route(location, seats, passengers, graph_out=False):\n",
    "    \n",
    "    # if it's start\n",
    "    if not any(seats):\n",
    "        # go to start\n",
    "        #print('reached the end')\n",
    "        return 0\n",
    "    # nodes for next iteration    \n",
    "    origin = []\n",
    "    #if it's a home\n",
    "    if location < hickers:\n",
    "        # same passengers - not dropping off anyone\n",
    "        new_pass = list(passengers)\n",
    "        # remove the one whose home we are in\n",
    "        new_seats = list(seats)\n",
    "        new_seats[location] = 0\n",
    "        # add homes for new_seats * passengers\n",
    "        origin += [x for x in range(hickers) if new_seats[x]*passengers[x]]\n",
    "        # add offices for old_seats * (not passengers)\n",
    "        origin += [x+hickers for x in range(hickers) if seats[x]*(not passengers[x])]\n",
    "        # if seats = [0...0] i.e. we are going to start (13 index in cost matrix)\n",
    "        if not origin:\n",
    "            origin = [hickers*2]\n",
    "    #if it's an office    \n",
    "    elif location < hickers*2:\n",
    "        # same seats - not picking up anyone\n",
    "        new_seats = list(seats)\n",
    "        # gets passenger\n",
    "        new_pass = list(passengers)\n",
    "        new_pass[location - hickers] = 1\n",
    "        # add homes for new_seats * passengers\n",
    "        origin += [x for x in range(hickers) if seats[x]*new_pass[x]]\n",
    "        # add offices for seats * (not passengers)\n",
    "        origin += [x+hickers for x in range(hickers) if seats[x]*(not new_pass[x])]\n",
    "    # if it's drivers office\n",
    "    elif location is hickers*2:\n",
    "        new_seats = list(seats)\n",
    "        new_pass = list(passengers)\n",
    "        # could only come from office of one of the seats\n",
    "        origin = [x+hickers for x in range(hickers) if new_seats[x]]\n",
    "        \n",
    "    # list of distances to previous node: total_costs[current node, next_node]\n",
    "    d_list = [total_costs[location, node] for node in origin]\n",
    "\n",
    "    # list of next calls of functions from every possible previous node\n",
    "    F_list = [find_route(node, new_seats, new_pass, graph_out) for node in origin]\n",
    "    \n",
    "    # min of [distance(office, next node) + F(next node)] in all next states\n",
    "    min_cost_list = map(add,d_list, F_list)\n",
    "    min_cost_list = np.array(list(min_cost_list))\n",
    "\n",
    "    # the one with minimun cost - [from,to]\n",
    "    min_ind = min_cost_list.argmin()\n",
    "    \n",
    "    if(graph_out):\n",
    "        print('|')\n",
    "        print('V')\n",
    "        print('min_ind = ', end='')\n",
    "        print(origin[min_ind])\n",
    "\n",
    "    return min_cost_list[min_ind]\n",
    "    \n",
    "    "
   ]
  },
  {
   "cell_type": "code",
   "execution_count": 78,
   "metadata": {
    "collapsed": false
   },
   "outputs": [],
   "source": [
    "dummy = np.zeros((hickers))\n",
    "dummy[:car_capacity] = np.ones((car_capacity))"
   ]
  },
  {
   "cell_type": "code",
   "execution_count": 79,
   "metadata": {
    "collapsed": false
   },
   "outputs": [],
   "source": [
    "\n",
    "all_states = list(itertools.permutations(list(dummy)))\n",
    "unique = []\n",
    "for c in all_states:\n",
    "    if c not in unique:\n",
    "        unique.append(c)\n",
    "    "
   ]
  },
  {
   "cell_type": "code",
   "execution_count": 80,
   "metadata": {
    "collapsed": false
   },
   "outputs": [],
   "source": [
    "best_routes = []\n",
    "for s in unique:\n",
    "    #print(s)\n",
    "    best_routes.append(find_route(hickers*2,s,[0]*hickers))"
   ]
  },
  {
   "cell_type": "code",
   "execution_count": 81,
   "metadata": {
    "collapsed": false
   },
   "outputs": [
    {
     "name": "stdout",
     "output_type": "stream",
     "text": [
      "Passengers:\n",
      "1\n",
      "4\n",
      "8\n"
     ]
    }
   ],
   "source": [
    "print('Passengers:')\n",
    "for i, s in enumerate(unique[np.array(best_routes).argmin()]):\n",
    "    if s:\n",
    "        print(i)"
   ]
  },
  {
   "cell_type": "code",
   "execution_count": null,
   "metadata": {
    "collapsed": true
   },
   "outputs": [],
   "source": []
  }
 ],
 "metadata": {
  "anaconda-cloud": {},
  "kernelspec": {
   "display_name": "Python [conda env:mypy]",
   "language": "python",
   "name": "conda-env-mypy-py"
  },
  "language_info": {
   "codemirror_mode": {
    "name": "ipython",
    "version": 3
   },
   "file_extension": ".py",
   "mimetype": "text/x-python",
   "name": "python",
   "nbconvert_exporter": "python",
   "pygments_lexer": "ipython3",
   "version": "3.5.2"
  }
 },
 "nbformat": 4,
 "nbformat_minor": 1
}
